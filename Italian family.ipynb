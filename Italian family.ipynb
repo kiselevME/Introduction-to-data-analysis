{
 "cells": [
  {
   "cell_type": "code",
   "execution_count": 1,
   "metadata": {},
   "outputs": [],
   "source": [
    "import pandas as pd\n",
    "import numpy as np\n",
    "\n",
    "import xml.etree.ElementTree as ET\n",
    "import networkx as nx"
   ]
  },
  {
   "cell_type": "code",
   "execution_count": 2,
   "metadata": {},
   "outputs": [],
   "source": [
    "tree = ET.parse('padgett.xml')"
   ]
  },
  {
   "cell_type": "code",
   "execution_count": 3,
   "metadata": {},
   "outputs": [],
   "source": [
    "root = tree.getroot()"
   ]
  },
  {
   "cell_type": "code",
   "execution_count": 4,
   "metadata": {},
   "outputs": [
    {
     "name": "stdout",
     "output_type": "stream",
     "text": [
      "<Element 'MetaNetwork' at 0x00000226AFCCF860>\n"
     ]
    }
   ],
   "source": [
    "for child in root.findall('MetaNetwork'):\n",
    "    print(child)"
   ]
  },
  {
   "cell_type": "code",
   "execution_count": 5,
   "metadata": {},
   "outputs": [],
   "source": [
    "child_1 = root[0] # Спускаемся в MetaNetwork"
   ]
  },
  {
   "cell_type": "code",
   "execution_count": 6,
   "metadata": {},
   "outputs": [
    {
     "name": "stdout",
     "output_type": "stream",
     "text": [
      "<Element 'nodes' at 0x00000226AFCCF8B0>\n",
      "<Element 'networks' at 0x00000226AFCD33B0>\n"
     ]
    }
   ],
   "source": [
    "for child in child_1:\n",
    "    print(child)"
   ]
  },
  {
   "cell_type": "code",
   "execution_count": 7,
   "metadata": {},
   "outputs": [],
   "source": [
    "child_2 = child_1[1] # Спускаемся в networks"
   ]
  },
  {
   "cell_type": "code",
   "execution_count": 8,
   "metadata": {},
   "outputs": [],
   "source": [
    "for child in child_2: # Спускаемся в PADGM\n",
    "    if (child.attrib['id'] == 'PADGM'):\n",
    "        child_3 = child"
   ]
  },
  {
   "cell_type": "code",
   "execution_count": 9,
   "metadata": {},
   "outputs": [
    {
     "data": {
      "text/html": [
       "<div>\n",
       "<style scoped>\n",
       "    .dataframe tbody tr th:only-of-type {\n",
       "        vertical-align: middle;\n",
       "    }\n",
       "\n",
       "    .dataframe tbody tr th {\n",
       "        vertical-align: top;\n",
       "    }\n",
       "\n",
       "    .dataframe thead th {\n",
       "        text-align: right;\n",
       "    }\n",
       "</style>\n",
       "<table border=\"1\" class=\"dataframe\">\n",
       "  <thead>\n",
       "    <tr style=\"text-align: right;\">\n",
       "      <th></th>\n",
       "      <th>source</th>\n",
       "      <th>target</th>\n",
       "      <th>type</th>\n",
       "      <th>value</th>\n",
       "    </tr>\n",
       "  </thead>\n",
       "  <tbody>\n",
       "    <tr>\n",
       "      <th>0</th>\n",
       "      <td>ACCIAIUOL</td>\n",
       "      <td>ACCIAIUOL</td>\n",
       "      <td>double</td>\n",
       "      <td>0.0000</td>\n",
       "    </tr>\n",
       "    <tr>\n",
       "      <th>1</th>\n",
       "      <td>ACCIAIUOL</td>\n",
       "      <td>ALBIZZI</td>\n",
       "      <td>double</td>\n",
       "      <td>0.0000</td>\n",
       "    </tr>\n",
       "    <tr>\n",
       "      <th>2</th>\n",
       "      <td>ACCIAIUOL</td>\n",
       "      <td>BARBADORI</td>\n",
       "      <td>double</td>\n",
       "      <td>0.0000</td>\n",
       "    </tr>\n",
       "    <tr>\n",
       "      <th>3</th>\n",
       "      <td>ACCIAIUOL</td>\n",
       "      <td>BISCHERI</td>\n",
       "      <td>double</td>\n",
       "      <td>0.0000</td>\n",
       "    </tr>\n",
       "    <tr>\n",
       "      <th>4</th>\n",
       "      <td>ACCIAIUOL</td>\n",
       "      <td>CASTELLAN</td>\n",
       "      <td>double</td>\n",
       "      <td>0.0000</td>\n",
       "    </tr>\n",
       "  </tbody>\n",
       "</table>\n",
       "</div>"
      ],
      "text/plain": [
       "      source     target    type   value\n",
       "0  ACCIAIUOL  ACCIAIUOL  double  0.0000\n",
       "1  ACCIAIUOL    ALBIZZI  double  0.0000\n",
       "2  ACCIAIUOL  BARBADORI  double  0.0000\n",
       "3  ACCIAIUOL   BISCHERI  double  0.0000\n",
       "4  ACCIAIUOL  CASTELLAN  double  0.0000"
      ]
     },
     "execution_count": 9,
     "metadata": {},
     "output_type": "execute_result"
    }
   ],
   "source": [
    "df = pd.DataFrame()\n",
    "for child in child_3:\n",
    "    df = df.append(child.attrib, ignore_index = True)\n",
    "    \n",
    "df.head()"
   ]
  },
  {
   "cell_type": "code",
   "execution_count": 10,
   "metadata": {},
   "outputs": [],
   "source": [
    "df['value'] = df['value'].astype(float)"
   ]
  },
  {
   "cell_type": "code",
   "execution_count": 11,
   "metadata": {},
   "outputs": [],
   "source": [
    "df.drop(columns = 'type', inplace = True)"
   ]
  },
  {
   "cell_type": "code",
   "execution_count": 12,
   "metadata": {},
   "outputs": [],
   "source": [
    "def pagerank(G, alpha=0.85, personalization=None,\n",
    "\t\t\tmax_iter=100, tol=1.0e-6, nstart=None, weight='weight',\n",
    "\t\t\tdangling=None):\n",
    "\t\"\"\"Return the PageRank of the nodes in the graph.\n",
    "\n",
    "\tPageRank computes a ranking of the nodes in the graph G based on\n",
    "\tthe structure of the incoming links. It was originally designed as\n",
    "\tan algorithm to rank web pages.\n",
    "\n",
    "\tParameters\n",
    "\t----------\n",
    "\tG : graph\n",
    "\tA NetworkX graph. Undirected graphs will be converted to a directed\n",
    "\tgraph with two directed edges for each undirected edge.\n",
    "\n",
    "\talpha : float, optional\n",
    "\tDamping parameter for PageRank, default=0.85.\n",
    "\n",
    "\tpersonalization: dict, optional\n",
    "\tThe \"personalization vector\" consisting of a dictionary with a\n",
    "\tkey for every graph node and nonzero personalization value for each node.\n",
    "\tBy default, a uniform distribution is used.\n",
    "\n",
    "\tmax_iter : integer, optional\n",
    "\tMaximum number of iterations in power method eigenvalue solver.\n",
    "\n",
    "\ttol : float, optional\n",
    "\tError tolerance used to check convergence in power method solver.\n",
    "\n",
    "\tnstart : dictionary, optional\n",
    "\tStarting value of PageRank iteration for each node.\n",
    "\n",
    "\tweight : key, optional\n",
    "\tEdge data key to use as weight. If None weights are set to 1.\n",
    "\n",
    "\tdangling: dict, optional\n",
    "\tThe outedges to be assigned to any \"dangling\" nodes, i.e., nodes without\n",
    "\tany outedges. The dict key is the node the outedge points to and the dict\n",
    "\tvalue is the weight of that outedge. By default, dangling nodes are given\n",
    "\toutedges according to the personalization vector (uniform if not\n",
    "\tspecified). This must be selected to result in an irreducible transition\n",
    "\tmatrix (see notes under google_matrix). It may be common to have the\n",
    "\tdangling dict to be the same as the personalization dict.\n",
    "\n",
    "\tReturns\n",
    "\t-------\n",
    "\tpagerank : dictionary\n",
    "\tDictionary of nodes with PageRank as value\n",
    "\n",
    "\tNotes\n",
    "\t-----\n",
    "\tThe eigenvector calculation is done by the power iteration method\n",
    "\tand has no guarantee of convergence. The iteration will stop\n",
    "\tafter max_iter iterations or an error tolerance of\n",
    "\tnumber_of_nodes(G)*tol has been reached.\n",
    "\n",
    "\tThe PageRank algorithm was designed for directed graphs but this\n",
    "\talgorithm does not check if the input graph is directed and will\n",
    "\texecute on undirected graphs by converting each edge in the\n",
    "\tdirected graph to two edges.\n",
    "\n",
    "\t\n",
    "\t\"\"\"\n",
    "\tif len(G) == 0:\n",
    "\t\treturn {}\n",
    "\n",
    "\tif not G.is_directed():\n",
    "\t\tD = G.to_directed()\n",
    "\telse:\n",
    "\t\tD = G\n",
    "\n",
    "\t# Create a copy in (right) stochastic form\n",
    "\tW = nx.stochastic_graph(D, weight=weight)\n",
    "\tN = W.number_of_nodes()\n",
    "\n",
    "\t# Choose fixed starting vector if not given\n",
    "\tif nstart is None:\n",
    "\t\tx = dict.fromkeys(W, 1.0 / N)\n",
    "\telse:\n",
    "\t\t# Normalized nstart vector\n",
    "\t\ts = float(sum(nstart.values()))\n",
    "\t\tx = dict((k, v / s) for k, v in nstart.items())\n",
    "\n",
    "\tif personalization is None:\n",
    "\n",
    "\t\t# Assign uniform personalization vector if not given\n",
    "\t\tp = dict.fromkeys(W, 1.0 / N)\n",
    "\telse:\n",
    "\t\tmissing = set(G) - set(personalization)\n",
    "\t\tif missing:\n",
    "\t\t\traise NetworkXError('Personalization dictionary '\n",
    "\t\t\t\t\t\t\t\t'must have a value for every node. '\n",
    "\t\t\t\t\t\t\t\t'Missing nodes %s' % missing)\n",
    "\t\ts = float(sum(personalization.values()))\n",
    "\t\tp = dict((k, v / s) for k, v in personalization.items())\n",
    "\n",
    "\tif dangling is None:\n",
    "\n",
    "\t\t# Use personalization vector if dangling vector not specified\n",
    "\t\tdangling_weights = p\n",
    "\telse:\n",
    "\t\tmissing = set(G) - set(dangling)\n",
    "\t\tif missing:\n",
    "\t\t\traise NetworkXError('Dangling node dictionary '\n",
    "\t\t\t\t\t\t\t\t'must have a value for every node. '\n",
    "\t\t\t\t\t\t\t\t'Missing nodes %s' % missing)\n",
    "\t\ts = float(sum(dangling.values()))\n",
    "\t\tdangling_weights = dict((k, v/s) for k, v in dangling.items())\n",
    "\tdangling_nodes = [n for n in W if W.out_degree(n, weight=weight) == 0.0]\n",
    "\n",
    "\t# power iteration: make up to max_iter iterations\n",
    "\tfor _ in range(max_iter):\n",
    "\t\txlast = x\n",
    "\t\tx = dict.fromkeys(xlast.keys(), 0)\n",
    "\t\tdanglesum = alpha * sum(xlast[n] for n in dangling_nodes)\n",
    "\t\tfor n in x:\n",
    "\n",
    "\t\t\t# this matrix multiply looks odd because it is\n",
    "\t\t\t# doing a left multiply x^T=xlast^T*W\n",
    "\t\t\tfor nbr in W[n]:\n",
    "\t\t\t\tx[nbr] += alpha * xlast[n] * W[n][nbr][weight]\n",
    "\t\t\tx[n] += danglesum * dangling_weights[n] + (1.0 - alpha) * p[n]\n",
    "\n",
    "\t\t# check convergence, l1 norm\n",
    "\t\terr = sum([abs(x[n] - xlast[n]) for n in x])\n",
    "\t\tif err < N*tol:\n",
    "\t\t\treturn x\n",
    "\traise NetworkXError('pagerank: power iteration failed to converge '\n",
    "\t\t\t\t\t\t'in %d iterations.' % max_iter)\n"
   ]
  },
  {
   "cell_type": "code",
   "execution_count": 13,
   "metadata": {},
   "outputs": [],
   "source": [
    "source_names = df['source'].unique()\n",
    "target_names = df['target'].unique()"
   ]
  },
  {
   "cell_type": "code",
   "execution_count": 14,
   "metadata": {},
   "outputs": [
    {
     "name": "stderr",
     "output_type": "stream",
     "text": [
      "<ipython-input-14-bdf22f8fbd6c>:6: UserWarning: Boolean Series key will be reindexed to match DataFrame index.\n",
      "  A[i][j] = df_i[df['target'] == target_names[j]]['value']\n"
     ]
    }
   ],
   "source": [
    "A = np.empty((len(source_names), len(target_names)))\n",
    "\n",
    "for i in range (len(source_names)):\n",
    "    df_i = df[df['source'] == source_names[i]]\n",
    "    for j in range (len(target_names)):\n",
    "        A[i][j] = df_i[df['target'] == target_names[j]]['value']"
   ]
  },
  {
   "cell_type": "code",
   "execution_count": 15,
   "metadata": {},
   "outputs": [],
   "source": [
    "G = nx.from_numpy_matrix(A)"
   ]
  },
  {
   "cell_type": "code",
   "execution_count": 16,
   "metadata": {},
   "outputs": [],
   "source": [
    "result = []\n",
    "for i in range(len(pagerank(G))):\n",
    "    result.append(pagerank(G)[i])"
   ]
  },
  {
   "cell_type": "code",
   "execution_count": 17,
   "metadata": {},
   "outputs": [
    {
     "data": {
      "text/html": [
       "<div>\n",
       "<style scoped>\n",
       "    .dataframe tbody tr th:only-of-type {\n",
       "        vertical-align: middle;\n",
       "    }\n",
       "\n",
       "    .dataframe tbody tr th {\n",
       "        vertical-align: top;\n",
       "    }\n",
       "\n",
       "    .dataframe thead th {\n",
       "        text-align: right;\n",
       "    }\n",
       "</style>\n",
       "<table border=\"1\" class=\"dataframe\">\n",
       "  <thead>\n",
       "    <tr style=\"text-align: right;\">\n",
       "      <th></th>\n",
       "      <th>family</th>\n",
       "      <th>rank</th>\n",
       "    </tr>\n",
       "  </thead>\n",
       "  <tbody>\n",
       "    <tr>\n",
       "      <th>8</th>\n",
       "      <td>MEDICI</td>\n",
       "      <td>0.144372</td>\n",
       "    </tr>\n",
       "    <tr>\n",
       "      <th>6</th>\n",
       "      <td>GUADAGNI</td>\n",
       "      <td>0.097423</td>\n",
       "    </tr>\n",
       "    <tr>\n",
       "      <th>14</th>\n",
       "      <td>STROZZI</td>\n",
       "      <td>0.087226</td>\n",
       "    </tr>\n",
       "    <tr>\n",
       "      <th>1</th>\n",
       "      <td>ALBIZZI</td>\n",
       "      <td>0.078340</td>\n",
       "    </tr>\n",
       "    <tr>\n",
       "      <th>15</th>\n",
       "      <td>TORNABUON</td>\n",
       "      <td>0.070574</td>\n",
       "    </tr>\n",
       "    <tr>\n",
       "      <th>12</th>\n",
       "      <td>RIDOLFI</td>\n",
       "      <td>0.068886</td>\n",
       "    </tr>\n",
       "    <tr>\n",
       "      <th>4</th>\n",
       "      <td>CASTELLAN</td>\n",
       "      <td>0.068644</td>\n",
       "    </tr>\n",
       "    <tr>\n",
       "      <th>3</th>\n",
       "      <td>BISCHERI</td>\n",
       "      <td>0.068180</td>\n",
       "    </tr>\n",
       "    <tr>\n",
       "      <th>10</th>\n",
       "      <td>PERUZZI</td>\n",
       "      <td>0.067203</td>\n",
       "    </tr>\n",
       "    <tr>\n",
       "      <th>13</th>\n",
       "      <td>SALVIATI</td>\n",
       "      <td>0.060697</td>\n",
       "    </tr>\n",
       "    <tr>\n",
       "      <th>2</th>\n",
       "      <td>BARBADORI</td>\n",
       "      <td>0.049803</td>\n",
       "    </tr>\n",
       "    <tr>\n",
       "      <th>9</th>\n",
       "      <td>PAZZI</td>\n",
       "      <td>0.035697</td>\n",
       "    </tr>\n",
       "    <tr>\n",
       "      <th>5</th>\n",
       "      <td>GINORI</td>\n",
       "      <td>0.032097</td>\n",
       "    </tr>\n",
       "    <tr>\n",
       "      <th>7</th>\n",
       "      <td>LAMBERTES</td>\n",
       "      <td>0.030604</td>\n",
       "    </tr>\n",
       "    <tr>\n",
       "      <th>0</th>\n",
       "      <td>ACCIAIUOL</td>\n",
       "      <td>0.030354</td>\n",
       "    </tr>\n",
       "    <tr>\n",
       "      <th>11</th>\n",
       "      <td>PUCCI</td>\n",
       "      <td>0.009901</td>\n",
       "    </tr>\n",
       "  </tbody>\n",
       "</table>\n",
       "</div>"
      ],
      "text/plain": [
       "       family      rank\n",
       "8      MEDICI  0.144372\n",
       "6    GUADAGNI  0.097423\n",
       "14    STROZZI  0.087226\n",
       "1     ALBIZZI  0.078340\n",
       "15  TORNABUON  0.070574\n",
       "12    RIDOLFI  0.068886\n",
       "4   CASTELLAN  0.068644\n",
       "3    BISCHERI  0.068180\n",
       "10    PERUZZI  0.067203\n",
       "13   SALVIATI  0.060697\n",
       "2   BARBADORI  0.049803\n",
       "9       PAZZI  0.035697\n",
       "5      GINORI  0.032097\n",
       "7   LAMBERTES  0.030604\n",
       "0   ACCIAIUOL  0.030354\n",
       "11      PUCCI  0.009901"
      ]
     },
     "execution_count": 17,
     "metadata": {},
     "output_type": "execute_result"
    }
   ],
   "source": [
    "pd.DataFrame({'family': source_names, 'rank': result}).sort_values(by = 'rank', ascending = False)"
   ]
  },
  {
   "cell_type": "code",
   "execution_count": null,
   "metadata": {},
   "outputs": [],
   "source": []
  }
 ],
 "metadata": {
  "kernelspec": {
   "display_name": "Python 3",
   "language": "python",
   "name": "python3"
  },
  "language_info": {
   "codemirror_mode": {
    "name": "ipython",
    "version": 3
   },
   "file_extension": ".py",
   "mimetype": "text/x-python",
   "name": "python",
   "nbconvert_exporter": "python",
   "pygments_lexer": "ipython3",
   "version": "3.8.5"
  }
 },
 "nbformat": 4,
 "nbformat_minor": 4
}
