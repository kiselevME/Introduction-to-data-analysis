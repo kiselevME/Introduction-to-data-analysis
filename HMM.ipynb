{
 "cells": [
  {
   "cell_type": "code",
   "execution_count": 61,
   "metadata": {},
   "outputs": [],
   "source": [
    "def forward_algorithm(seq, P, q, B):\n",
    "    '''\n",
    "        Алгоритм для рассчета правдоподобия последовательности seq\n",
    "        Parameters\n",
    "        ----------\n",
    "            seq: numpy array 1D\n",
    "            Последовательность для которой строится правдоподобие\n",
    "            \n",
    "            P: numpy array 2D\n",
    "            Матрица перходов\n",
    "            \n",
    "            q: numpy array 1D\n",
    "            Массив начальных состояний\n",
    "            \n",
    "            B: numpy array 2D\n",
    "            Матрица условных вероятностей количества шариков в зависимости от погоды\n",
    "            \n",
    "        Returns\n",
    "        ---\n",
    "            likelihood: float\n",
    "            Правдоподобие данной последовательности\n",
    "    '''\n",
    "    seq -= 1\n",
    "    \n",
    "    T = len(seq)\n",
    "    N = len(q)\n",
    "    \n",
    "    forward = np.zeros((N, T))\n",
    "    \n",
    "    for s in range (N):\n",
    "        forward[s, 0] = q[s]*B[s, seq[0]]\n",
    "        \n",
    "    for t in range (1, T):\n",
    "        for s in range (N):\n",
    "            for i in range (N):\n",
    "                forward[s, t] += forward[i, t-1]*P[i, s]*B[s, seq[t]]\n",
    "   \n",
    "    likelihood = 0\n",
    "    for s in range (N):\n",
    "        likelihood += forward[s, T-1]\n",
    "    return likelihood"
   ]
  },
  {
   "cell_type": "code",
   "execution_count": 62,
   "metadata": {},
   "outputs": [
    {
     "name": "stdout",
     "output_type": "stream",
     "text": [
      "13323332121131333\n"
     ]
    },
    {
     "data": {
      "text/plain": [
       "1.5661699363936459e-09"
      ]
     },
     "execution_count": 62,
     "metadata": {},
     "output_type": "execute_result"
    }
   ],
   "source": [
    "import numpy as np\n",
    "\n",
    "seq = np.array(list(input()), dtype = int)\n",
    "\n",
    "P = np.array([[0.5, 0.5],\n",
    "              [0.4, 0.6]])\n",
    "\n",
    "q = np.array([0.2, 0.8])\n",
    "\n",
    "B = np.array([[0.5, 0.4, 0.1], [0.2, 0.4, 0.4]])\n",
    "\n",
    "forward_algorithm(seq, P, q, B)"
   ]
  },
  {
   "cell_type": "code",
   "execution_count": null,
   "metadata": {},
   "outputs": [],
   "source": []
  }
 ],
 "metadata": {
  "kernelspec": {
   "display_name": "Python 3",
   "language": "python",
   "name": "python3"
  },
  "language_info": {
   "codemirror_mode": {
    "name": "ipython",
    "version": 3
   },
   "file_extension": ".py",
   "mimetype": "text/x-python",
   "name": "python",
   "nbconvert_exporter": "python",
   "pygments_lexer": "ipython3",
   "version": "3.8.5"
  }
 },
 "nbformat": 4,
 "nbformat_minor": 4
}
