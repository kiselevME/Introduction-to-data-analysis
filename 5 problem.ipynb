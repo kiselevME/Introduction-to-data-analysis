{
 "cells": [
  {
   "cell_type": "code",
   "execution_count": null,
   "metadata": {},
   "outputs": [],
   "source": [
    "Написать функцию, реализующую алгоритм k-means. \n",
    "Входные и выходные значения функции должны быть аналогичны https://docs.scipy.org/doc/scipy-0.15.1/reference/generated/scipy.cluster.vq.kmeans.html.\n",
    "Функция должна содержать не более двух циклов while (for)."
   ]
  },
  {
   "cell_type": "code",
   "execution_count": 161,
   "metadata": {},
   "outputs": [
    {
     "name": "stdout",
     "output_type": "stream",
     "text": [
      "5\n"
     ]
    },
    {
     "data": {
      "image/png": "[encoded data removed]",
      "text/plain": [
       "<Figure size 432x288 with 1 Axes>"
      ]
     },
     "metadata": {
      "needs_background": "light"
     },
     "output_type": "display_data"
    }
   ],
   "source": [
    "import numpy as np\n",
    "import matplotlib.pyplot as plt\n",
    "\n",
    "data = np.array([[1.9, 2.3],[1.5, 2.5],[0.8, 0.6],[0.4, 1.8],[0.1, 0.1],[0.2, 1.8],[2.0, 0.5],[0.3, 1.5],[1.0, 1.0]])\n",
    "\n",
    "num_cluster = int(input())\n",
    "def kmeans(obs, num_cluster, iterations = 3, thresh = 1e-05):\n",
    "    DIM = 2\n",
    "    N = obs.shape[0]\n",
    "\n",
    "    x = obs\n",
    "    y = np.zeros(N)\n",
    "    k = np.arange(0, num_cluster, 1)\n",
    "    s1 = 0\n",
    "    s2 = 0\n",
    "    t = 0\n",
    "    \n",
    "\n",
    "    while(s2 - s1 > thresh or t < iterations):\n",
    "        if t == 0:\n",
    "            index_ = np.random.choice(range(N), num_cluster, replace=False)\n",
    "            mean = np.array(x[index_])\n",
    "        else:\n",
    "            mean = np.array(list(map(lambda m: np.mean(x[y==m], axis=0), k)))\n",
    "        \n",
    "        if (t != 0):\n",
    "            u = list(map(lambda m: ((mean[m,0])**2 + (mean[m,1])**2)**(1/2), k))\n",
    "            s1 = (np.sum(u))\n",
    "        \n",
    "        for i in range(N):\n",
    "            dist = np.sum((mean - x[i])**2, axis=1)\n",
    "            pred = np.argmin(dist)\n",
    "            y[i] = pred\n",
    "        \n",
    "        u = list(map(lambda m: ((mean[m,0])**2 + (mean[m,1])**2)**(1/2), k))\n",
    "        s2 = (np.sum(u))\n",
    "        \n",
    "        t = t + 1\n",
    "    plt.scatter(x[:,0], x[:,1], c = y)\n",
    "    plt.show()\n",
    "\n",
    "kmeans(data, num_cluster)"
   ]
  },
  {
   "cell_type": "code",
   "execution_count": null,
   "metadata": {},
   "outputs": [],
   "source": []
  }
 ],
 "metadata": {
  "kernelspec": {
   "display_name": "Python 3",
   "language": "python",
   "name": "python3"
  },
  "language_info": {
   "codemirror_mode": {
    "name": "ipython",
    "version": 3
   },
   "file_extension": ".py",
   "mimetype": "text/x-python",
   "name": "python",
   "nbconvert_exporter": "python",
   "pygments_lexer": "ipython3",
   "version": "3.8.5"
  }
 },
 "nbformat": 4,
 "nbformat_minor": 4
}
