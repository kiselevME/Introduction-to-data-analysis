{
 "cells": [
  {
   "cell_type": "code",
   "execution_count": null,
   "metadata": {},
   "outputs": [],
   "source": [
    "Создайте двумерный массив 10x3, заполненный случайными значениями. В каждой строке выберите значение, наиболее близкое к 0.5."
   ]
  },
  {
   "cell_type": "code",
   "execution_count": 8,
   "metadata": {},
   "outputs": [
    {
     "name": "stdout",
     "output_type": "stream",
     "text": [
      "[[0.41760445 0.52576117 0.35747384 0.96004355 0.91486775 0.91385567\n",
      "  0.03666038 0.38772772 0.30230133 0.46579675]\n",
      " [0.51663477 0.35773346 0.39627841 0.20677648 0.75539485 0.96666349\n",
      "  0.96433141 0.72630233 0.13953828 0.87637577]\n",
      " [0.28774118 0.98426157 0.29841236 0.35708998 0.19208769 0.07058729\n",
      "  0.44524738 0.71756289 0.73249051 0.94832934]]\n"
     ]
    }
   ],
   "source": [
    "import numpy as np\n",
    "a = np.random.random((3,10));\n",
    "print(a)"
   ]
  },
  {
   "cell_type": "code",
   "execution_count": 36,
   "metadata": {},
   "outputs": [
    {
     "name": "stdout",
     "output_type": "stream",
     "text": [
      "[0.52576117 0.51663477 0.44524738]\n"
     ]
    }
   ],
   "source": [
    "b = a - 0.5;\n",
    "b = np.absolute(b);\n",
    "args = np.argmin(b, axis=1);\n",
    "st=[0,1,2];\n",
    "print(a[st,args])"
   ]
  },
  {
   "cell_type": "code",
   "execution_count": null,
   "metadata": {},
   "outputs": [],
   "source": []
  }
 ],
 "metadata": {
  "kernelspec": {
   "display_name": "Python 3",
   "language": "python",
   "name": "python3"
  },
  "language_info": {
   "codemirror_mode": {
    "name": "ipython",
    "version": 3
   },
   "file_extension": ".py",
   "mimetype": "text/x-python",
   "name": "python",
   "nbconvert_exporter": "python",
   "pygments_lexer": "ipython3",
   "version": "3.8.5"
  }
 },
 "nbformat": 4,
 "nbformat_minor": 4
}
