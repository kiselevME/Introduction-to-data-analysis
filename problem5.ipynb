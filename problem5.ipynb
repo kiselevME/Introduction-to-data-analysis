{
 "cells": [
  {
   "cell_type": "code",
   "execution_count": 1,
   "metadata": {},
   "outputs": [],
   "source": [
    "# https://edabit.com/challenge/Wd9cCvFKC3fHzgqSx"
   ]
  },
  {
   "cell_type": "code",
   "execution_count": 21,
   "metadata": {},
   "outputs": [
    {
     "name": "stdout",
     "output_type": "stream",
     "text": [
      "100\n",
      "[100, 0, 0]\n"
     ]
    }
   ],
   "source": [
    "num = int(input())\n",
    "answer = []\n",
    "n = 0\n",
    "if num>=0:\n",
    "    while num!=0:\n",
    "        answer.append(10**n * (num-10*(num//10)))\n",
    "        num=num//10\n",
    "        n=n+1\n",
    "else:\n",
    "    while num!=0:\n",
    "        answer.append(10**n * (num-10*(num//10 + 1)))\n",
    "        num=num//10 + 1\n",
    "        n=n+1\n",
    "answer.reverse()\n",
    "print(answer)"
   ]
  },
  {
   "cell_type": "code",
   "execution_count": null,
   "metadata": {},
   "outputs": [],
   "source": []
  }
 ],
 "metadata": {
  "kernelspec": {
   "display_name": "Python 3",
   "language": "python",
   "name": "python3"
  },
  "language_info": {
   "codemirror_mode": {
    "name": "ipython",
    "version": 3
   },
   "file_extension": ".py",
   "mimetype": "text/x-python",
   "name": "python",
   "nbconvert_exporter": "python",
   "pygments_lexer": "ipython3",
   "version": "3.8.5"
  }
 },
 "nbformat": 4,
 "nbformat_minor": 4
}
