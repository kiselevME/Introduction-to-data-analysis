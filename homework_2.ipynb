{
 "cells": [
  {
   "cell_type": "code",
   "execution_count": null,
   "metadata": {},
   "outputs": [],
   "source": [
    "Создайте двумерный массив 10x3, заполненный случайными значениями. В каждой строке выберите значение, наиболее близкое к 0.5."
   ]
  },
  {
   "cell_type": "code",
   "execution_count": 8,
   "metadata": {},
   "outputs": [
    {
     "name": "stdout",
     "output_type": "stream",
     "text": [
      "[[0.41760445 0.52576117 0.35747384 0.96004355 0.91486775 0.91385567\n",
      "  0.03666038 0.38772772 0.30230133 0.46579675]\n",
      " [0.51663477 0.35773346 0.39627841 0.20677648 0.75539485 0.96666349\n",
      "  0.96433141 0.72630233 0.13953828 0.87637577]\n",
      " [0.28774118 0.98426157 0.29841236 0.35708998 0.19208769 0.07058729\n",
      "  0.44524738 0.71756289 0.73249051 0.94832934]]\n"
     ]
    }
   ],
   "source": [
    "import numpy as np\n",
    "a = np.random.random((3,10));\n",
    "print(a)"
   ]
  },
  {
   "cell_type": "code",
   "execution_count": 36,
   "metadata": {},
   "outputs": [
    {
     "name": "stdout",
     "output_type": "stream",
     "text": [
      "[0.52576117 0.51663477 0.44524738]\n"
     ]
    }
   ],
   "source": [
    "b = a - 0.5;\n",
    "b = np.absolute(b);\n",
    "args = np.argmin(b, axis=1);\n",
    "st=[0,1,2];\n",
    "print(a[st,args])"
   ]
  },
  {
   "cell_type": "code",
   "execution_count": null,
   "metadata": {},
   "outputs": [],
   "source": [
    "Создайте двумерный массив 6x6, заполненный случайными значениями.\n",
    "Затем сумму по каждой строке поделите на минимальный элемент из столбца с тем же индексом."
   ]
  },
  {
   "cell_type": "code",
   "execution_count": 1,
   "metadata": {},
   "outputs": [
    {
     "name": "stdout",
     "output_type": "stream",
     "text": [
      "[[0.39984266 0.16799413 0.07355616 0.14715535 0.32201397 0.17788997]\n",
      " [0.42938769 0.79945199 0.54065155 0.45527854 0.23425806 0.38698653]\n",
      " [0.17176076 0.92518328 0.15679707 0.0342448  0.6492846  0.28129351]\n",
      " [0.32052538 0.8302117  0.32485533 0.31417809 0.52173251 0.13670344]\n",
      " [0.79930601 0.86593882 0.16729651 0.08046834 0.90450752 0.22917831]\n",
      " [0.10026809 0.0183507  0.59140826 0.67418318 0.6753187  0.31048283]]\n",
      "[ 12.85007289 155.09023196  30.16149954  71.49134242  13.00572335\n",
      "  17.33688507]\n"
     ]
    }
   ],
   "source": [
    "import numpy as np\n",
    "a = np.random.random((6,6));\n",
    "print(a)\n",
    "b = np.sum(a,axis=1)/np.min(a,axis=0);\n",
    "print(b)"
   ]
  },
  {
   "cell_type": "code",
   "execution_count": null,
   "metadata": {},
   "outputs": [],
   "source": [
    "На примере массива x = np.array([6, 2, 0, 3, 0, 0, 5, 7, 0])\n",
    "найдите максимальный элемент в массиве среди элементов, перед которыми стоит ноль."
   ]
  },
  {
   "cell_type": "code",
   "execution_count": 2,
   "metadata": {},
   "outputs": [
    {
     "name": "stdout",
     "output_type": "stream",
     "text": [
      "5\n"
     ]
    }
   ],
   "source": [
    "import numpy as np\n",
    "x = np.array([6, 2, 0, 3, 0, 0, 5, 7, 0]);\n",
    "f = x==0\n",
    "f[1:9]=f[0:8]\n",
    "f[0] = False\n",
    "print(np.max(x[f]))"
   ]
  },
  {
   "cell_type": "code",
   "execution_count": null,
   "metadata": {},
   "outputs": [],
   "source": [
    "Пусть заданы два массива x = np.ones(10) и i = np.array([0, 1, 2, 3, 5, 5, 5, 8]). \n",
    "Прибавьте единицу к тем элементам массива x, индексы которых указаны в массиве i. \n",
    "В случае, если некоторый индекс встретился в массиве i несколько раз, \n",
    "прибавьте к соответствующему элементу массива x число вхождений данного индекса в массив i."
   ]
  },
  {
   "cell_type": "code",
   "execution_count": 3,
   "metadata": {},
   "outputs": [
    {
     "name": "stdout",
     "output_type": "stream",
     "text": [
      "[2. 2. 2. 2. 1. 4. 1. 1. 2. 1.]\n"
     ]
    }
   ],
   "source": [
    "import numpy as np\n",
    "x = np.ones(10);\n",
    "i = np.array([0, 1, 2, 3, 5, 5, 5, 8]);\n",
    "j = np.unique(i);\n",
    "for k in j:\n",
    "    t = np.count_nonzero(i == k)\n",
    "    x[k] = x[k] + t;\n",
    "print(x)"
   ]
  },
  {
   "cell_type": "code",
   "execution_count": null,
   "metadata": {},
   "outputs": [],
   "source": [
    "Написать функцию, реализующую алгоритм k-means. \n",
    "Входные и выходные значения функции должны быть аналогичны https://docs.scipy.org/doc/scipy-0.15.1/reference/generated/scipy.cluster.vq.kmeans.html.\n",
    "Функция должна содержать не более двух циклов while (for)."
   ]
  },
  {
   "cell_type": "code",
   "execution_count": 6,
   "metadata": {},
   "outputs": [
    {
     "name": "stdout",
     "output_type": "stream",
     "text": [
      "3\n",
      "[[1.7        2.4       ]\n",
      " [0.78333333 1.2       ]\n",
      " [0.1        0.1       ]]\n",
      "0.0\n"
     ]
    },
    {
     "data": {
      "image/png": "[encoded data removed]",
      "text/plain": [
       "<Figure size 432x288 with 1 Axes>"
      ]
     },
     "metadata": {
      "needs_background": "light"
     },
     "output_type": "display_data"
    }
   ],
   "source": [
    "import numpy as np\n",
    "import matplotlib.pyplot as plt\n",
    "\n",
    "data = np.array([[1.9, 2.3],[1.5, 2.5],[0.8, 0.6],[0.4, 1.8],[0.1, 0.1],[0.2, 1.8],[2.0, 0.5],[0.3, 1.5],[1.0, 1.0]])\n",
    "\n",
    "num_cluster = int(input())\n",
    "def kmeans(obs, num_cluster, iterations = 20, thresh = 1e-05):\n",
    "    DIM = 2\n",
    "    N = obs.shape[0]\n",
    "\n",
    "    x = obs\n",
    "    y = np.zeros(N)\n",
    "    k = np.arange(0, num_cluster, 1)\n",
    "    k1 = np.arange(0, N, 1)\n",
    "    s1 = 0\n",
    "    s2 = 0\n",
    "    t = 0\n",
    "    \n",
    "\n",
    "    while(abs(s2 - s1) > thresh or t < iterations):\n",
    "        \n",
    "        if (t != 0):\n",
    "            u = list(map(lambda m: ((mean[m,0])**2 + (mean[m,1])**2)**(1/2), k))\n",
    "            s1 = (np.sum(u))\n",
    "        \n",
    "        if t == 0:\n",
    "            index_ = np.random.choice(range(N), num_cluster, replace=False)\n",
    "            mean = np.array(x[index_])\n",
    "        else:\n",
    "            mean = np.array(list(map(lambda m: np.mean(x[y==m], axis=0), k)))\n",
    "        \n",
    "        for i in range(N):\n",
    "            dist = np.sum((mean - x[i])**2, axis=1)\n",
    "            pred = np.argmin(dist)\n",
    "            y[i] = pred\n",
    "        \n",
    "        u = list(map(lambda m: ((mean[m,0])**2 + (mean[m,1])**2)**(1/2), k))\n",
    "        s2 = (np.sum(u))\n",
    "        \n",
    "        t = t + 1\n",
    "    return([mean, abs(s2-s1), x, y])\n",
    "    \n",
    "\n",
    "print(kmeans(data, num_cluster)[0])\n",
    "print(kmeans(data, num_cluster)[1])\n",
    "plt.scatter(kmeans(data, num_cluster)[2][:,0], kmeans(data, num_cluster)[2][:,1], c = kmeans(data, num_cluster)[3])\n",
    "plt.show()"
   ]
  },
  {
   "cell_type": "code",
   "execution_count": null,
   "metadata": {},
   "outputs": [],
   "source": []
  }
 ],
 "metadata": {
  "kernelspec": {
   "display_name": "Python 3",
   "language": "python",
   "name": "python3"
  },
  "language_info": {
   "codemirror_mode": {
    "name": "ipython",
    "version": 3
   },
   "file_extension": ".py",
   "mimetype": "text/x-python",
   "name": "python",
   "nbconvert_exporter": "python",
   "pygments_lexer": "ipython3",
   "version": "3.8.5"
  }
 },
 "nbformat": 4,
 "nbformat_minor": 4
}
