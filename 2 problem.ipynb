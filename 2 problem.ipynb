{
 "cells": [
  {
   "cell_type": "code",
   "execution_count": null,
   "metadata": {},
   "outputs": [],
   "source": [
    "Создайте двумерный массив 6x6, заполненный случайными значениями.\n",
    "Затем сумму по каждой строке поделите на минимальный элемент из столбца с тем же индексом."
   ]
  },
  {
   "cell_type": "code",
   "execution_count": 8,
   "metadata": {},
   "outputs": [
    {
     "name": "stdout",
     "output_type": "stream",
     "text": [
      "[[0.98825756 0.96324015 0.73189793 0.45912594 0.84392714 0.38277963]\n",
      " [0.78676169 0.05819867 0.4633189  0.86048356 0.61959814 0.64433591]\n",
      " [0.61165234 0.7510886  0.01064445 0.41648031 0.50682024 0.2844318 ]\n",
      " [0.91779416 0.41605962 0.31408016 0.40894288 0.71716802 0.02094551]\n",
      " [0.92893196 0.49646725 0.77184274 0.16956203 0.69509326 0.10660882]\n",
      " [0.57668924 0.83458    0.92866066 0.72907334 0.97539073 0.82887964]]\n",
      "[  7.57639999  58.98238942 242.48483851  16.48358624   6.25173545\n",
      " 232.6643533 ]\n"
     ]
    }
   ],
   "source": [
    "import numpy as np\n",
    "a = np.random.random((6,6));\n",
    "print(a)\n",
    "b = np.sum(a,axis=1)/np.min(a,axis=0);\n",
    "print(b)"
   ]
  },
  {
   "cell_type": "code",
   "execution_count": null,
   "metadata": {},
   "outputs": [],
   "source": []
  }
 ],
 "metadata": {
  "kernelspec": {
   "display_name": "Python 3",
   "language": "python",
   "name": "python3"
  },
  "language_info": {
   "codemirror_mode": {
    "name": "ipython",
    "version": 3
   },
   "file_extension": ".py",
   "mimetype": "text/x-python",
   "name": "python",
   "nbconvert_exporter": "python",
   "pygments_lexer": "ipython3",
   "version": "3.8.5"
  }
 },
 "nbformat": 4,
 "nbformat_minor": 4
}
